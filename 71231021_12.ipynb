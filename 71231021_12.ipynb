{
 "cells": [
  {
   "cell_type": "markdown",
   "id": "b4db7804",
   "metadata": {},
   "source": [
    "latihan mandiri 1"
   ]
  },
  {
   "cell_type": "code",
   "execution_count": 19,
   "id": "c77a9d38",
   "metadata": {},
   "outputs": [
    {
     "name": "stdout",
     "output_type": "stream",
     "text": [
      "Masukkan 5 nama aplikasi di kategori finance\n",
      "Masukkan 5 nama aplikasi di kategori education\n",
      "daftar aplikasi: {'finance': ['calculator', 'excel', 'olymptrade', 'gacor slot', 'papa zeus'], 'education': ['mathway', 'calculator', 'gacor slot', 'brainly', 'zenius']}\n",
      "\n",
      "aplikasi yang hanya muncul satu kali:\n",
      "finance : {'olymptrade', 'excel', 'papa zeus'}\n",
      "education : {'brainly', 'zenius', 'mathway'}\n",
      "\n",
      "daftar aplikasi yang ada pada 2 kategori sekaligus:\n",
      "nama aplikasi: {'gacor slot', 'calculator'}, nama kategori={'finance', 'education'}\n"
     ]
    }
   ],
   "source": [
    "# input n kategori\n",
    "n = int(input('Masukkan jumlah kategori: '))\n",
    "# siapkan dictionary kosong\n",
    "data_aplikasi = {}\n",
    "# input nama kategori dan aplikasi di dalamnya\n",
    "for i in range(n):\n",
    "    nama_kategori = input('Masukkan nama kategori:')\n",
    "    print('Masukkan 5 nama aplikasi di kategori', nama_kategori)\n",
    "    # siapkan list kosong untuk nama-nama aplikasi\n",
    "    aplikasi = []\n",
    "    for j in range(5):\n",
    "        nama_aplikasi = input('Nama aplikasi: ')\n",
    "        aplikasi.append(nama_aplikasi)\n",
    "    # masukkan dalam dictionary\n",
    "    data_aplikasi[nama_kategori] = aplikasi\n",
    "# tampilkan dictionary data_aplikasi\n",
    "print(f\"daftar aplikasi: {data_aplikasi}\")\n",
    "\n",
    "key = list(data_aplikasi.keys())\n",
    "value = list(data_aplikasi.values())\n",
    "\n",
    "all_value = []\n",
    "for i in value:\n",
    "    all_value += i\n",
    "apps_dua = []\n",
    "\n",
    "print(\"\\naplikasi yang hanya muncul satu kali:\")\n",
    "for i, j in zip(key,value):\n",
    "    satu_doang = []\n",
    "    for x in set(all_value):\n",
    "        if all_value.count(x) == 1:\n",
    "            if x in j:\n",
    "                satu_doang.append(x)\n",
    "        if all_value.count(x) == 2:\n",
    "            apps_dua.append(x)\n",
    "    print(f\"{i} : {set(satu_doang)}\")\n",
    "if n >= 2:\n",
    "    print(\"\\ndaftar aplikasi yang ada pada 2 kategori sekaligus:\")\n",
    "    categories = []\n",
    "    for i, j in zip(key,value):\n",
    "        for x in apps_dua:\n",
    "            if x in j:\n",
    "                categories.append(i)\n",
    "    print(f\"nama aplikasi: {set(apps_dua)}, nama kategori={set(categories)}\")"
   ]
  },
  {
   "cell_type": "markdown",
   "id": "e956a818",
   "metadata": {},
   "source": [
    "latihan mandiri 2"
   ]
  },
  {
   "cell_type": "code",
   "execution_count": 2,
   "id": "d94bbb31",
   "metadata": {},
   "outputs": [
    {
     "name": "stdout",
     "output_type": "stream",
     "text": [
      "interger\n",
      "list [5, 4, 3, 6, 7, 1] menjadi set: {1, 3, 4, 5, 6, 7}\n",
      "set {1, 3, 4, 5, 6, 7} menjadi list: [1, 3, 4, 5, 6, 7]\n",
      "tuple (5, 4, 3, 6, 7, 1) menjadi set: {1, 3, 4, 5, 6, 7}\n",
      "set {1, 3, 4, 5, 6, 7} menjadi tuple: (1, 3, 4, 5, 6, 7)\n",
      "\n",
      "string\n",
      "list ['arthur', 'dutch', 'jack', 'sean', 'milton', 'mary'] menjadi set: {'jack', 'mary', 'sean', 'dutch', 'milton', 'arthur'}\n",
      "set {'jack', 'mary', 'sean', 'dutch', 'milton', 'arthur'} menjadi list: ['jack', 'mary', 'sean', 'dutch', 'milton', 'arthur']\n",
      "tuple ('arthur', 'dutch', 'jack', 'sean', 'milton', 'mary') menjadi set: {'jack', 'mary', 'sean', 'dutch', 'milton', 'arthur'}\n",
      "set {'jack', 'mary', 'sean', 'dutch', 'milton', 'arthur'} menjadi tuple: ('jack', 'mary', 'sean', 'dutch', 'milton', 'arthur')\n"
     ]
    }
   ],
   "source": [
    "nums = [5,4,3,6,7,1]\n",
    "word = [\"arthur\",\"dutch\",\"jack\",\"sean\",\"milton\",\"mary\"]\n",
    "\n",
    "print(\"interger\")\n",
    "print(f\"list {nums} menjadi set: {set(nums)}\")\n",
    "print(f\"set {set(nums)} menjadi list: {list(set(nums))}\")\n",
    "print(f\"tuple {tuple(nums)} menjadi set: {set(tuple(nums))}\")\n",
    "print(f\"set {set(nums)} menjadi tuple: {tuple(set(nums))}\")\n",
    "\n",
    "print(\"\\nstring\")\n",
    "print(f\"list {word} menjadi set: {set(word)}\")\n",
    "print(f\"set {set(word)} menjadi list: {list(set(word))}\")\n",
    "print(f\"tuple {tuple(word)} menjadi set: {set(tuple(word))}\")\n",
    "print(f\"set {set(word)} menjadi tuple: {tuple(set(word))}\")"
   ]
  },
  {
   "cell_type": "markdown",
   "id": "9f4ba561",
   "metadata": {},
   "source": [
    "latihan mandiri 3"
   ]
  },
  {
   "cell_type": "code",
   "execution_count": 5,
   "id": "9c839f31",
   "metadata": {},
   "outputs": [
    {
     "name": "stdout",
     "output_type": "stream",
     "text": [
      "{'on', 'of', 'their', 'the', 'in', 'with', 'and', 'hear', 'his', 'he', 'i'}\n"
     ]
    }
   ],
   "source": [
    "def same_word():\n",
    "    try:\n",
    "        file1 = open(str(input(\"masukan file pertama: \")))\n",
    "        file2 = open(str(input(\"masukan file kedua: \")))\n",
    "        base_file1 = \"\"\n",
    "        base_file2 = \"\"\n",
    "\n",
    "        for line1 in file1:\n",
    "            for i in line1:\n",
    "                if str(i).isalpha() or i == \" \":\n",
    "                    base_file1+=i.lower()\n",
    "        for line2 in file2:\n",
    "            for j in line2:\n",
    "                if str(j).isalpha() or j == \" \":\n",
    "                    base_file2 += j.lower()    \n",
    "\n",
    "        set_file1 = set(base_file1.split())\n",
    "        set_file2 = set(base_file2.split())\n",
    "\n",
    "        return set_file1 & set_file2\n",
    "    except:\n",
    "        return \"file tidak ditemukan!\"\n",
    "        \n",
    "print(same_word())"
   ]
  }
 ],
 "metadata": {
  "kernelspec": {
   "display_name": "Python 3",
   "language": "python",
   "name": "python3"
  },
  "language_info": {
   "codemirror_mode": {
    "name": "ipython",
    "version": 3
   },
   "file_extension": ".py",
   "mimetype": "text/x-python",
   "name": "python",
   "nbconvert_exporter": "python",
   "pygments_lexer": "ipython3",
   "version": "3.12.1"
  }
 },
 "nbformat": 4,
 "nbformat_minor": 5
}
